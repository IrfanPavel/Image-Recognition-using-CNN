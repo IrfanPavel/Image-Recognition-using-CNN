{
  "nbformat": 4,
  "nbformat_minor": 0,
  "metadata": {
    "colab": {
      "name": " Image Recognition using CNN project.ipynb",
      "provenance": [],
      "collapsed_sections": [],
      "mount_file_id": "1fQFlrYIZQYAVYMNZ1FaWm_VhKsgsCar7",
      "authorship_tag": "ABX9TyNjXSLIsI+YXVXeIz8hIhm+",
      "include_colab_link": true
    },
    "kernelspec": {
      "name": "python3",
      "display_name": "Python 3"
    }
  },
  "cells": [
    {
      "cell_type": "markdown",
      "metadata": {
        "id": "view-in-github",
        "colab_type": "text"
      },
      "source": [
        "<a href=\"https://colab.research.google.com/github/IrfanPavel/Image-Recognition-using-CNN-/blob/main/Image_Recognition_using_CNN.ipynb\" target=\"_parent\"><img src=\"https://colab.research.google.com/assets/colab-badge.svg\" alt=\"Open In Colab\"/></a>"
      ]
    },
    {
      "cell_type": "code",
      "metadata": {
        "id": "H2RrXsAySivn"
      },
      "source": [
        "import numpy as np\r\n",
        "import pandas as pd\r\n",
        "%matplotlib inline\r\n",
        "import matplotlib as mpl\r\n",
        "import matplotlib.pyplot as plt\r\n",
        "import os"
      ],
      "execution_count": null,
      "outputs": []
    },
    {
      "cell_type": "code",
      "metadata": {
        "id": "vs3JJxZLVAOR"
      },
      "source": [
        "import tensorflow as tf\r\n",
        "from tensorflow import keras"
      ],
      "execution_count": null,
      "outputs": []
    },
    {
      "cell_type": "code",
      "metadata": {
        "id": "LG6xxbHCVTAc"
      },
      "source": [
        "train_dir = 'drive/MyDrive/cats_and_dogs_small/train'\r\n",
        "validation_dir = 'drive/MyDrive/cats_and_dogs_small/validation'\r\n",
        "test_dir = 'drive/MyDrive/cats_and_dogs_small/test'\r\n"
      ],
      "execution_count": 39,
      "outputs": []
    },
    {
      "cell_type": "code",
      "metadata": {
        "id": "m9794_x5NhfB"
      },
      "source": [
        "from tensorflow.keras.preprocessing.image import ImageDataGenerator\r\n",
        "\r\n"
      ],
      "execution_count": 40,
      "outputs": []
    },
    {
      "cell_type": "markdown",
      "metadata": {
        "id": "xBg2cCynPpgx"
      },
      "source": [
        "Generating batches of Tensor image data\r\n"
      ]
    },
    {
      "cell_type": "code",
      "metadata": {
        "colab": {
          "base_uri": "https://localhost:8080/"
        },
        "id": "OSJkvZqpPwwX",
        "outputId": "4ccae3a7-6249-47a0-ef13-59dffbeca6b1"
      },
      "source": [
        "train_datagen = ImageDataGenerator(rescale=1./255)\r\n",
        "test_datagen = ImageDataGenerator(rescale=1./255)\r\n",
        "\r\n",
        "\r\n",
        "train_generator = train_datagen.flow_from_directory(\r\n",
        "    train_dir,\r\n",
        "    target_size=(150,150),\r\n",
        "    batch_size=20,\r\n",
        "    class_mode='binary')\r\n",
        "\r\n",
        "\r\n",
        "validation_generator=test_datagen.flow_from_directory(\r\n",
        "    validation_dir,\r\n",
        "    target_size=(150,150),\r\n",
        "    batch_size=20,\r\n",
        "    class_mode='binary')"
      ],
      "execution_count": 41,
      "outputs": [
        {
          "output_type": "stream",
          "text": [
            "Found 2000 images belonging to 2 classes.\n",
            "Found 1000 images belonging to 2 classes.\n"
          ],
          "name": "stdout"
        }
      ]
    },
    {
      "cell_type": "code",
      "metadata": {
        "id": "8Z33yAlLZNl0"
      },
      "source": [
        ""
      ],
      "execution_count": null,
      "outputs": []
    },
    {
      "cell_type": "code",
      "metadata": {
        "id": "uELe7weUZYrp"
      },
      "source": [
        "from tensorflow.keras import layers\r\n",
        "from tensorflow.keras import models"
      ],
      "execution_count": 37,
      "outputs": []
    },
    {
      "cell_type": "code",
      "metadata": {
        "id": "1qV4FMWNZkyt"
      },
      "source": [
        "model = models.Sequential()\r\n",
        "\r\n",
        "model.add(layers.Conv2D(32,(3,3),activation='relu',\r\n",
        "                        input_shape=(150,150,3)))\r\n",
        "\r\n",
        "model.add(layers.MaxPooling2D((2,2)))\r\n",
        "\r\n",
        "model.add(layers.Conv2D(64,(3,3),activation='relu'))\r\n",
        "\r\n",
        "model.add(layers.MaxPooling2D((2,2)))\r\n",
        "\r\n",
        "model.add(layers.Conv2D(128,(3,3),activation='relu'))\r\n",
        "\r\n",
        "model.add(layers.MaxPooling2D((2,2)))\r\n",
        "\r\n",
        "model.add(layers.Conv2D(128,(3,3),activation='relu'))\r\n",
        "\r\n",
        "model.add(layers.MaxPooling2D((2,2)))\r\n",
        "\r\n",
        "model.add(layers.Flatten())\r\n",
        "\r\n",
        "model.add(layers.Dense(512,activation='relu'))\r\n",
        "\r\n",
        "model.add(layers.Dense(1,activation='sigmoid'))\r\n",
        "\r\n",
        "\r\n"
      ],
      "execution_count": 45,
      "outputs": []
    },
    {
      "cell_type": "code",
      "metadata": {
        "colab": {
          "base_uri": "https://localhost:8080/"
        },
        "id": "GXtVhOZjdo_x",
        "outputId": "dc098cc7-bd13-47cf-87a2-9d1efcd7a2d4"
      },
      "source": [
        "model.summary()"
      ],
      "execution_count": 31,
      "outputs": [
        {
          "output_type": "stream",
          "text": [
            "Model: \"sequential_2\"\n",
            "_________________________________________________________________\n",
            "Layer (type)                 Output Shape              Param #   \n",
            "=================================================================\n",
            "conv2d_8 (Conv2D)            (None, 148, 148, 32)      896       \n",
            "_________________________________________________________________\n",
            "max_pooling2d_8 (MaxPooling2 (None, 74, 74, 32)        0         \n",
            "_________________________________________________________________\n",
            "conv2d_9 (Conv2D)            (None, 72, 72, 64)        18496     \n",
            "_________________________________________________________________\n",
            "max_pooling2d_9 (MaxPooling2 (None, 36, 36, 64)        0         \n",
            "_________________________________________________________________\n",
            "conv2d_10 (Conv2D)           (None, 34, 34, 128)       73856     \n",
            "_________________________________________________________________\n",
            "max_pooling2d_10 (MaxPooling (None, 17, 17, 128)       0         \n",
            "_________________________________________________________________\n",
            "conv2d_11 (Conv2D)           (None, 15, 15, 128)       147584    \n",
            "_________________________________________________________________\n",
            "max_pooling2d_11 (MaxPooling (None, 7, 7, 128)         0         \n",
            "_________________________________________________________________\n",
            "flatten_1 (Flatten)          (None, 6272)              0         \n",
            "_________________________________________________________________\n",
            "dense_2 (Dense)              (None, 512)               3211776   \n",
            "_________________________________________________________________\n",
            "dense_3 (Dense)              (None, 512)               262656    \n",
            "=================================================================\n",
            "Total params: 3,715,264\n",
            "Trainable params: 3,715,264\n",
            "Non-trainable params: 0\n",
            "_________________________________________________________________\n"
          ],
          "name": "stdout"
        }
      ]
    },
    {
      "cell_type": "code",
      "metadata": {
        "id": "3fElbNnJgDlH"
      },
      "source": [
        "from tensorflow.keras import optimizers\r\n",
        "model.compile(loss='binary_crossentropy',\r\n",
        "              optimizer=optimizers.RMSprop(lr=1e-4),\r\n",
        "              metrics=['acc'])"
      ],
      "execution_count": 46,
      "outputs": []
    },
    {
      "cell_type": "code",
      "metadata": {
        "colab": {
          "base_uri": "https://localhost:8080/"
        },
        "id": "0qfNP-SjglOY",
        "outputId": "4c40dd54-d176-45a7-d620-710d393f1be0"
      },
      "source": [
        "history = model.fit_generator(\r\n",
        "    train_generator,\r\n",
        "    steps_per_epoch = 100,\r\n",
        "    epochs=20,\r\n",
        "    validation_data= validation_generator,\r\n",
        "    validation_steps= 50)"
      ],
      "execution_count": 47,
      "outputs": [
        {
          "output_type": "stream",
          "text": [
            "/usr/local/lib/python3.7/dist-packages/tensorflow/python/keras/engine/training.py:1844: UserWarning: `Model.fit_generator` is deprecated and will be removed in a future version. Please use `Model.fit`, which supports generators.\n",
            "  warnings.warn('`Model.fit_generator` is deprecated and '\n"
          ],
          "name": "stderr"
        },
        {
          "output_type": "stream",
          "text": [
            "Epoch 1/20\n",
            "100/100 [==============================] - 566s 6s/step - loss: 0.6972 - acc: 0.5097 - val_loss: 0.6716 - val_acc: 0.6110\n",
            "Epoch 2/20\n",
            "100/100 [==============================] - 107s 1s/step - loss: 0.6625 - acc: 0.6003 - val_loss: 0.6348 - val_acc: 0.6380\n",
            "Epoch 3/20\n",
            "100/100 [==============================] - 107s 1s/step - loss: 0.6213 - acc: 0.6578 - val_loss: 0.6285 - val_acc: 0.6320\n",
            "Epoch 4/20\n",
            "100/100 [==============================] - 107s 1s/step - loss: 0.5722 - acc: 0.7061 - val_loss: 0.5830 - val_acc: 0.6820\n",
            "Epoch 5/20\n",
            "100/100 [==============================] - 108s 1s/step - loss: 0.5593 - acc: 0.7083 - val_loss: 0.5712 - val_acc: 0.6920\n",
            "Epoch 6/20\n",
            "100/100 [==============================] - 107s 1s/step - loss: 0.4921 - acc: 0.7532 - val_loss: 0.5999 - val_acc: 0.6840\n",
            "Epoch 7/20\n",
            "100/100 [==============================] - 107s 1s/step - loss: 0.4723 - acc: 0.7718 - val_loss: 0.6362 - val_acc: 0.6510\n",
            "Epoch 8/20\n",
            "100/100 [==============================] - 107s 1s/step - loss: 0.4607 - acc: 0.7866 - val_loss: 0.5384 - val_acc: 0.7220\n",
            "Epoch 9/20\n",
            "100/100 [==============================] - 108s 1s/step - loss: 0.4386 - acc: 0.7860 - val_loss: 0.5617 - val_acc: 0.7180\n",
            "Epoch 10/20\n",
            "100/100 [==============================] - 107s 1s/step - loss: 0.4074 - acc: 0.8183 - val_loss: 0.5487 - val_acc: 0.7110\n",
            "Epoch 11/20\n",
            "100/100 [==============================] - 107s 1s/step - loss: 0.3825 - acc: 0.8220 - val_loss: 0.5654 - val_acc: 0.7280\n",
            "Epoch 12/20\n",
            "100/100 [==============================] - 108s 1s/step - loss: 0.3566 - acc: 0.8458 - val_loss: 0.5779 - val_acc: 0.7210\n",
            "Epoch 13/20\n",
            "100/100 [==============================] - 107s 1s/step - loss: 0.3556 - acc: 0.8362 - val_loss: 0.5590 - val_acc: 0.7240\n",
            "Epoch 14/20\n",
            "100/100 [==============================] - 107s 1s/step - loss: 0.3074 - acc: 0.8748 - val_loss: 0.5987 - val_acc: 0.7190\n",
            "Epoch 15/20\n",
            "100/100 [==============================] - 107s 1s/step - loss: 0.2810 - acc: 0.8854 - val_loss: 0.5751 - val_acc: 0.7260\n",
            "Epoch 16/20\n",
            "100/100 [==============================] - 106s 1s/step - loss: 0.2653 - acc: 0.8884 - val_loss: 0.5754 - val_acc: 0.7410\n",
            "Epoch 17/20\n",
            "100/100 [==============================] - 106s 1s/step - loss: 0.2310 - acc: 0.9157 - val_loss: 0.6219 - val_acc: 0.7210\n",
            "Epoch 18/20\n",
            "100/100 [==============================] - 106s 1s/step - loss: 0.2122 - acc: 0.9168 - val_loss: 0.7208 - val_acc: 0.6990\n",
            "Epoch 19/20\n",
            "100/100 [==============================] - 107s 1s/step - loss: 0.1901 - acc: 0.9276 - val_loss: 0.6579 - val_acc: 0.7380\n",
            "Epoch 20/20\n",
            "100/100 [==============================] - 108s 1s/step - loss: 0.1799 - acc: 0.9352 - val_loss: 0.6673 - val_acc: 0.7240\n"
          ],
          "name": "stdout"
        }
      ]
    },
    {
      "cell_type": "code",
      "metadata": {
        "colab": {
          "base_uri": "https://localhost:8080/",
          "height": 324
        },
        "id": "7rolzge4bCk7",
        "outputId": "380452c4-2f86-44d5-b7c4-31642e6c05a2"
      },
      "source": [
        "pd.DataFrame(history.history).plot(figsize=(8,5))\r\n",
        "plt.grid(True)\r\n",
        "plt.gca().set_ylim(0,1)\r\n",
        "plt.show()"
      ],
      "execution_count": 48,
      "outputs": [
        {
          "output_type": "display_data",
          "data": {
            "image/png": "[encoded data removed]",
            "text/plain": [
              "<Figure size 576x360 with 1 Axes>"
            ]
          },
          "metadata": {
            "tags": [],
            "needs_background": "light"
          }
        }
      ]
    },
    {
      "cell_type": "code",
      "metadata": {
        "id": "kz9D1XC0cQla"
      },
      "source": [
        "model.save(\"model.h5\")"
      ],
      "execution_count": 49,
      "outputs": []
    },
    {
      "cell_type": "code",
      "metadata": {
        "id": "zND3ThGhcWha"
      },
      "source": [
        "from tensorflow.keras import backend as K\r\n",
        "K.clear_session()\r\n",
        "del model"
      ],
      "execution_count": 51,
      "outputs": []
    },
    {
      "cell_type": "code",
      "metadata": {
        "colab": {
          "base_uri": "https://localhost:8080/"
        },
        "id": "MCIGKZV5f7TO",
        "outputId": "a7a2c905-2ae2-4075-8303-40d52820ab48"
      },
      "source": [
        "train_datagen = ImageDataGenerator(\r\n",
        "    rescale = 1./255,\r\n",
        "    rotation_range = 40,\r\n",
        "    width_shift_range = 0.2,\r\n",
        "    height_shift_range = 0.2,\r\n",
        "    shear_range = 0.2,\r\n",
        "    zoom_range = 0.2,\r\n",
        "    horizontal_flip = True\r\n",
        ")\r\n",
        "\r\n",
        "test_datagen = ImageDataGenerator(rescale=1./255)\r\n",
        "\r\n",
        "train_generator = train_datagen.flow_from_directory(\r\n",
        "    \r\n",
        "    train_dir,\r\n",
        "    target_size=(150,150),\r\n",
        "    batch_size = 32,\r\n",
        "    class_mode='binary'\r\n",
        "    )\r\n",
        "\r\n",
        "validation_generator = test_datagen.flow_from_directory(\r\n",
        "    validation_dir,\r\n",
        "    target_size= (150,150),\r\n",
        "    batch_size = 32,\r\n",
        "    class_mode = 'binary'\r\n",
        ")"
      ],
      "execution_count": 52,
      "outputs": [
        {
          "output_type": "stream",
          "text": [
            "Found 2000 images belonging to 2 classes.\n",
            "Found 1000 images belonging to 2 classes.\n"
          ],
          "name": "stdout"
        }
      ]
    },
    {
      "cell_type": "code",
      "metadata": {
        "id": "IOtlr-6cioWz"
      },
      "source": [
        "model = models.Sequential()\r\n",
        "\r\n",
        "model.add(layers.Conv2D(32,(3,3),activation='relu',\r\n",
        "                        input_shape=(150,150,3)))\r\n",
        "\r\n",
        "model.add(layers.MaxPooling2D((2,2)))\r\n",
        "\r\n",
        "model.add(layers.Conv2D(64,(3,3),activation='relu'))\r\n",
        "\r\n",
        "model.add(layers.MaxPooling2D((2,2)))\r\n",
        "\r\n",
        "model.add(layers.Conv2D(128,(3,3),activation='relu'))\r\n",
        "\r\n",
        "model.add(layers.MaxPooling2D((2,2)))\r\n",
        "\r\n",
        "model.add(layers.Conv2D(128,(3,3),activation='relu'))\r\n",
        "\r\n",
        "model.add(layers.MaxPooling2D((2,2)))\r\n",
        "\r\n",
        "model.add(layers.Flatten())\r\n",
        "\r\n",
        "model.add(layers.Dropout(0.5))\r\n",
        "\r\n",
        "model.add(layers.Dense(512,activation='relu'))\r\n",
        "\r\n",
        "model.add(layers.Dense(1,activation='sigmoid'))\r\n",
        "\r\n",
        "model.compile(loss='binary_crossentropy',\r\n",
        "              optimizer=optimizers.RMSprop(lr=1e-4),\r\n",
        "              metrics=['acc'])"
      ],
      "execution_count": 53,
      "outputs": []
    },
    {
      "cell_type": "code",
      "metadata": {
        "colab": {
          "base_uri": "https://localhost:8080/"
        },
        "id": "UXjnTCHij_1t",
        "outputId": "e00d2f7c-38d4-43a0-f27e-3961fe37d72d"
      },
      "source": [
        "history = model.fit_generator(\r\n",
        "    \r\n",
        "\r\n",
        "  train_generator,\r\n",
        "  steps_per_epoch = 100,\r\n",
        "  epochs = 100,\r\n",
        "  validation_data= validation_generator,\r\n",
        "  validation_steps = 50\r\n",
        "\r\n",
        ")"
      ],
      "execution_count": 55,
      "outputs": [
        {
          "output_type": "stream",
          "text": [
            "/usr/local/lib/python3.7/dist-packages/tensorflow/python/keras/engine/training.py:1844: UserWarning: `Model.fit_generator` is deprecated and will be removed in a future version. Please use `Model.fit`, which supports generators.\n",
            "  warnings.warn('`Model.fit_generator` is deprecated and '\n"
          ],
          "name": "stderr"
        },
        {
          "output_type": "stream",
          "text": [
            "Epoch 1/2\n",
            " 63/100 [=================>............] - ETA: 58s - loss: 0.6825 - acc: 0.5430 WARNING:tensorflow:Your input ran out of data; interrupting training. Make sure that your dataset or generator can generate at least `steps_per_epoch * epochs` batches (in this case, 200 batches). You may need to use the repeat() function when building your dataset.\n",
            "WARNING:tensorflow:Your input ran out of data; interrupting training. Make sure that your dataset or generator can generate at least `steps_per_epoch * epochs` batches (in this case, 50 batches). You may need to use the repeat() function when building your dataset.\n",
            "100/100 [==============================] - 114s 1s/step - loss: 0.6825 - acc: 0.5430 - val_loss: 0.6856 - val_acc: 0.5150\n"
          ],
          "name": "stdout"
        }
      ]
    },
    {
      "cell_type": "code",
      "metadata": {
        "id": "s7mXHeGPlZ2s"
      },
      "source": [
        "model.save('project_cnn.h5')\r\n"
      ],
      "execution_count": 56,
      "outputs": []
    },
    {
      "cell_type": "code",
      "metadata": {
        "id": "u1r1wJQ0lfZJ"
      },
      "source": [
        "pd.DataFrame(history.history).plot(figsize=(8,5))\r\n",
        "plt.grid(True)\r\n",
        "plt.gca().set_ylim(0,1)\r\n",
        "plt.show()"
      ],
      "execution_count": null,
      "outputs": []
    }
  ]
}